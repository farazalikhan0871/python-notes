{
 "cells": [
  {
   "cell_type": "markdown",
   "metadata": {
    "id": "t1KX9ExluH05"
   },
   "source": [
    "### Earlier when discussing strings we introduced the concept of a <u>sequence</u> in Python. \n",
    "* <u>Lists</u> can be thought of the most general version of a *sequence* in Python. \n",
    "\n",
    "\n",
    "* Unlike strings, they are mutable, meaning the elements inside a list can be changed! \n",
    "\n",
    "\n",
    "* Lists are constructed with brackets <code>[]</code> and commas separating every element in the list."
   ]
  },
  {
   "cell_type": "code",
   "execution_count": null,
   "metadata": {
    "id": "zJALgXvTuH06"
   },
   "outputs": [],
   "source": [
    "# Assign a list to an variable named my_list\n",
    "my_list = [1,2,3,4]"
   ]
  },
  {
   "cell_type": "code",
   "execution_count": null,
   "metadata": {
    "colab": {
     "base_uri": "https://localhost:8080/"
    },
    "id": "5iyxPTQEuH1A",
    "outputId": "e5647390-41bd-494b-9d78-893a1adf2d02"
   },
   "outputs": [
    {
     "name": "stdout",
     "output_type": "stream",
     "text": [
      "[1, 2, 3, 4]\n"
     ]
    }
   ],
   "source": [
    "print(my_list)"
   ]
  },
  {
   "cell_type": "code",
   "execution_count": null,
   "metadata": {
    "colab": {
     "base_uri": "https://localhost:8080/"
    },
    "id": "Iwcih5WkuH1F",
    "outputId": "e1845caa-ef6e-45bd-d4fb-0c8f235f89c2"
   },
   "outputs": [
    {
     "data": {
      "text/plain": [
       "list"
      ]
     },
     "execution_count": 3,
     "metadata": {
      "tags": []
     },
     "output_type": "execute_result"
    }
   ],
   "source": [
    "type(my_list)"
   ]
  },
  {
   "cell_type": "code",
   "execution_count": 95,
   "metadata": {},
   "outputs": [
    {
     "data": {
      "text/plain": [
       "list"
      ]
     },
     "execution_count": 95,
     "metadata": {},
     "output_type": "execute_result"
    }
   ],
   "source": [
    "x=[]\n",
    "type(x)"
   ]
  },
  {
   "cell_type": "code",
   "execution_count": 96,
   "metadata": {},
   "outputs": [
    {
     "data": {
      "text/plain": [
       "list"
      ]
     },
     "execution_count": 96,
     "metadata": {},
     "output_type": "execute_result"
    }
   ],
   "source": [
    "y=list()\n",
    "type(y)"
   ]
  },
  {
   "cell_type": "markdown",
   "metadata": {
    "id": "GixOgR0xuH1K"
   },
   "source": [
    "* We just created a list of integers, but lists can actually hold different object types. For example:"
   ]
  },
  {
   "cell_type": "code",
   "execution_count": 1,
   "metadata": {
    "id": "iYwuNSr5uH1L"
   },
   "outputs": [],
   "source": [
    "my_list = ['A string',23,100.232,'o',True]"
   ]
  },
  {
   "cell_type": "code",
   "execution_count": null,
   "metadata": {
    "colab": {
     "base_uri": "https://localhost:8080/"
    },
    "id": "5v0MmUyBuH1R",
    "outputId": "e4aacf43-46e1-4b07-c312-1c9d800d325e"
   },
   "outputs": [
    {
     "data": {
      "text/plain": [
       "['A string', 23, 100.232, 'o', True]"
      ]
     },
     "execution_count": 5,
     "metadata": {
      "tags": []
     },
     "output_type": "execute_result"
    }
   ],
   "source": [
    "my_list"
   ]
  },
  {
   "cell_type": "markdown",
   "metadata": {
    "id": "KC7536WDuH1W"
   },
   "source": [
    "* Just like strings, the <code>len()</code> function will tell you how many items are in the sequence of the list."
   ]
  },
  {
   "cell_type": "code",
   "execution_count": null,
   "metadata": {
    "colab": {
     "base_uri": "https://localhost:8080/"
    },
    "id": "9c8rQF1ZuH1X",
    "outputId": "4463c874-ec54-48b8-c434-b8d22831949c"
   },
   "outputs": [
    {
     "data": {
      "text/plain": [
       "5"
      ]
     },
     "execution_count": 6,
     "metadata": {
      "tags": []
     },
     "output_type": "execute_result"
    }
   ],
   "source": [
    "len(my_list)"
   ]
  },
  {
   "cell_type": "markdown",
   "metadata": {
    "id": "GOoGqqK9uH1c"
   },
   "source": [
    "## List Indexing\n",
    "* Indexing work just like in strings.\n",
    "\n",
    "\n",
    "* A list index refers to the location of an element in a list.\n",
    "\n",
    "\n",
    "* Remember the indexing begins from 0 in Python. \n",
    "\n",
    "\n",
    "* The first element is assigned an index 0, the second element is assigned an index of 1 and so on and so forth."
   ]
  },
  {
   "cell_type": "code",
   "execution_count": 6,
   "metadata": {
    "colab": {
     "base_uri": "https://localhost:8080/"
    },
    "id": "h8kC051iuH1e",
    "outputId": "57f61813-08a0-4de2-a592-bd7eddbc1261"
   },
   "outputs": [
    {
     "name": "stdout",
     "output_type": "stream",
     "text": [
      "['Mean Absolute Error', 'Mean Squared Error', 'Huber Loss', 'Log Loss', 'Hinge Loss']\n"
     ]
    }
   ],
   "source": [
    "# Consider a list of strings\n",
    "loss_functions = ['Mean Absolute Error','Mean Squared Error','Huber Loss','Log Loss','Hinge Loss']\n",
    "print(loss_functions)"
   ]
  },
  {
   "cell_type": "code",
   "execution_count": 7,
   "metadata": {
    "colab": {
     "base_uri": "https://localhost:8080/"
    },
    "id": "9Rjv4sHZuH1k",
    "outputId": "e3f31ac5-d6ee-4b57-97b6-f8a1edad7926"
   },
   "outputs": [
    {
     "name": "stdout",
     "output_type": "stream",
     "text": [
      "Mean Absolute Error\n"
     ]
    }
   ],
   "source": [
    "# Grab the element at index 0, which is the FIRST element\n",
    "print(loss_functions[0])"
   ]
  },
  {
   "cell_type": "code",
   "execution_count": 10,
   "metadata": {},
   "outputs": [
    {
     "name": "stdout",
     "output_type": "stream",
     "text": [
      "Hinge Loss\n"
     ]
    }
   ],
   "source": [
    "print(loss_functions[4])"
   ]
  },
  {
   "cell_type": "code",
   "execution_count": null,
   "metadata": {
    "colab": {
     "base_uri": "https://localhost:8080/"
    },
    "id": "wy6j6RQluH1q",
    "outputId": "67a33230-b85a-476b-f468-b85704165dad"
   },
   "outputs": [
    {
     "name": "stdout",
     "output_type": "stream",
     "text": [
      "Log Loss\n"
     ]
    }
   ],
   "source": [
    "# Grab the element at index 3, which is the FOURTH element\n",
    "print(loss_functions[3])"
   ]
  },
  {
   "cell_type": "code",
   "execution_count": 14,
   "metadata": {},
   "outputs": [
    {
     "name": "stdout",
     "output_type": "stream",
     "text": [
      "Hinge Loss\n"
     ]
    }
   ],
   "source": [
    "print(loss_functions[-1])"
   ]
  },
  {
   "cell_type": "code",
   "execution_count": 15,
   "metadata": {},
   "outputs": [],
   "source": [
    "x=[100,\"a\",[500,\"easilitech\",32.15]]"
   ]
  },
  {
   "cell_type": "code",
   "execution_count": 18,
   "metadata": {},
   "outputs": [
    {
     "data": {
      "text/plain": [
       "[500, 'easilitech', 32.15]"
      ]
     },
     "execution_count": 18,
     "metadata": {},
     "output_type": "execute_result"
    }
   ],
   "source": [
    "x[2]"
   ]
  },
  {
   "cell_type": "code",
   "execution_count": 22,
   "metadata": {},
   "outputs": [
    {
     "data": {
      "text/plain": [
       "'easilitech'"
      ]
     },
     "execution_count": 22,
     "metadata": {},
     "output_type": "execute_result"
    }
   ],
   "source": [
    "x[2][1]"
   ]
  },
  {
   "cell_type": "code",
   "execution_count": 24,
   "metadata": {
    "colab": {
     "base_uri": "https://localhost:8080/",
     "height": 166
    },
    "id": "fN0bZ8T5HULs",
    "outputId": "6aae36ee-907a-4523-fd45-72cc83d706fc"
   },
   "outputs": [
    {
     "ename": "IndexError",
     "evalue": "list index out of range",
     "output_type": "error",
     "traceback": [
      "\u001b[0;31m---------------------------------------------------------------------------\u001b[0m",
      "\u001b[0;31mIndexError\u001b[0m                                Traceback (most recent call last)",
      "Cell \u001b[0;32mIn[24], line 1\u001b[0m\n\u001b[0;32m----> 1\u001b[0m \u001b[38;5;28mprint\u001b[39m(\u001b[43mx\u001b[49m\u001b[43m[\u001b[49m\u001b[38;5;241;43m6\u001b[39;49m\u001b[43m]\u001b[49m)\n",
      "\u001b[0;31mIndexError\u001b[0m: list index out of range"
     ]
    }
   ],
   "source": [
    "print(x[6])"
   ]
  },
  {
   "cell_type": "code",
   "execution_count": null,
   "metadata": {
    "colab": {
     "base_uri": "https://localhost:8080/"
    },
    "id": "XWYhPYWJuH1w",
    "outputId": "0932de76-68c1-46c7-92b4-1bdb4c9f8ead"
   },
   "outputs": [
    {
     "name": "stdout",
     "output_type": "stream",
     "text": [
      "Hinge Loss\n"
     ]
    }
   ],
   "source": [
    "# Grab the element at the index -1, which is the LAST element\n",
    "print(loss_functions[-1])"
   ]
  },
  {
   "cell_type": "code",
   "execution_count": null,
   "metadata": {
    "colab": {
     "base_uri": "https://localhost:8080/"
    },
    "id": "qVDZolzXuH11",
    "outputId": "e3265bfb-848b-4235-f97a-e694c174ba7d"
   },
   "outputs": [
    {
     "name": "stdout",
     "output_type": "stream",
     "text": [
      "Huber Loss\n"
     ]
    }
   ],
   "source": [
    "# Grab the element at the index -3, which is the THIRD LAST element\n",
    "print(loss_functions[-3])"
   ]
  },
  {
   "cell_type": "markdown",
   "metadata": {
    "id": "VyvYPGtYuH16"
   },
   "source": [
    "## List Slicing\n",
    "\n",
    "* We can use a <code>:</code> to perform *slicing* which grabs everything up to a designated point. \n",
    "\n",
    "\n",
    "* The starting index is specified on the left of the <code>:</code> and the ending index is specified on the right of the <code>:</code>. \n",
    "\n",
    "\n",
    "* Remember the element located at the right index is not included."
   ]
  },
  {
   "cell_type": "code",
   "execution_count": null,
   "metadata": {
    "colab": {
     "base_uri": "https://localhost:8080/"
    },
    "id": "rJpgJdnauH16",
    "outputId": "d4add6dc-ce79-4985-f8f7-d0e04b62ac47"
   },
   "outputs": [
    {
     "name": "stdout",
     "output_type": "stream",
     "text": [
      "['Mean Absolute Error', 'Mean Squared Error', 'Huber Loss', 'Log Loss', 'Hinge Loss']\n"
     ]
    }
   ],
   "source": [
    "# Print our list\n",
    "print(loss_functions)"
   ]
  },
  {
   "cell_type": "code",
   "execution_count": null,
   "metadata": {
    "colab": {
     "base_uri": "https://localhost:8080/"
    },
    "id": "qkMHWOjpuH1_",
    "outputId": "8efbc043-68b5-45b7-ec29-1011fdc5bba5"
   },
   "outputs": [
    {
     "data": {
      "text/plain": [
       "['Mean Squared Error', 'Huber Loss', 'Log Loss']"
      ]
     },
     "execution_count": 15,
     "metadata": {
      "tags": []
     },
     "output_type": "execute_result"
    }
   ],
   "source": [
    "# Grab the elements starting from index 1 and everything past it\n",
    "loss_functions[1:4]"
   ]
  },
  {
   "cell_type": "markdown",
   "metadata": {
    "id": "tRWJVhSPuH2G"
   },
   "source": [
    "* If you do not specify the ending index, then all elements are extracted which comes after the starting index including the element at that starting index. The operation knows only to stop when it has run through the entire list."
   ]
  },
  {
   "cell_type": "code",
   "execution_count": null,
   "metadata": {
    "colab": {
     "base_uri": "https://localhost:8080/"
    },
    "id": "9-210b6YuH2H",
    "outputId": "9f0b5ad0-382c-4174-f066-a8dfc69cbcd1"
   },
   "outputs": [
    {
     "data": {
      "text/plain": [
       "['Huber Loss', 'Log Loss', 'Hinge Loss']"
      ]
     },
     "execution_count": 16,
     "metadata": {
      "tags": []
     },
     "output_type": "execute_result"
    }
   ],
   "source": [
    "# Grab everything starting from index 2\n",
    "loss_functions[2:]"
   ]
  },
  {
   "cell_type": "markdown",
   "metadata": {
    "id": "X6H8XIIZuH2M"
   },
   "source": [
    "* If you do not specify the starting index, then all elements are extracted which comes befores the ending index excluding the element at the specified ending index. The operation knows only to stop when it has extracted all elements before the  element at the ending index."
   ]
  },
  {
   "cell_type": "code",
   "execution_count": null,
   "metadata": {
    "colab": {
     "base_uri": "https://localhost:8080/"
    },
    "id": "OzsSfMJwuH2M",
    "outputId": "67f68979-8bcc-44c5-f52e-6952a98ff86b"
   },
   "outputs": [
    {
     "data": {
      "text/plain": [
       "['Mean Absolute Error', 'Mean Squared Error', 'Huber Loss', 'Log Loss']"
      ]
     },
     "execution_count": 17,
     "metadata": {
      "tags": []
     },
     "output_type": "execute_result"
    }
   ],
   "source": [
    "# Grab everything before the index 4\n",
    "loss_functions[:4]"
   ]
  },
  {
   "cell_type": "markdown",
   "metadata": {
    "id": "AzM1gvHxuH2R"
   },
   "source": [
    "* If you do not specify the starting and the ending index, it will extract all elements of the list."
   ]
  },
  {
   "cell_type": "code",
   "execution_count": null,
   "metadata": {
    "colab": {
     "base_uri": "https://localhost:8080/"
    },
    "id": "UvgZ2Oi7uH2S",
    "outputId": "b661155a-1cc1-4c91-895a-8e01d5fd8dd3"
   },
   "outputs": [
    {
     "name": "stdout",
     "output_type": "stream",
     "text": [
      "['Mean Absolute Error', 'Mean Squared Error', 'Huber Loss', 'Log Loss', 'Hinge Loss']\n"
     ]
    }
   ],
   "source": [
    "# Grab everything\n",
    "print(loss_functions[:])"
   ]
  },
  {
   "cell_type": "markdown",
   "metadata": {
    "id": "JZCjIP2wuH2Y"
   },
   "source": [
    "* We can also extract the last four elements. Remember we can use the index -4 to extract the FOURTH LAST element"
   ]
  },
  {
   "cell_type": "code",
   "execution_count": null,
   "metadata": {
    "colab": {
     "base_uri": "https://localhost:8080/"
    },
    "id": "HO6uu_J3uH2Z",
    "outputId": "079089a6-360d-455b-9316-2250f70483e6"
   },
   "outputs": [
    {
     "data": {
      "text/plain": [
       "['Mean Squared Error', 'Huber Loss', 'Log Loss', 'Hinge Loss']"
      ]
     },
     "execution_count": 19,
     "metadata": {
      "tags": []
     },
     "output_type": "execute_result"
    }
   ],
   "source": [
    "# Grab the LAST FOUR elements of the list\n",
    "loss_functions[-4:]"
   ]
  },
  {
   "cell_type": "code",
   "execution_count": null,
   "metadata": {
    "colab": {
     "base_uri": "https://localhost:8080/",
     "height": 166
    },
    "id": "HhClfN4JoYHm",
    "outputId": "8e6192cd-0a78-4c3b-f7b7-522edc3de69b"
   },
   "outputs": [
    {
     "ename": "IndexError",
     "evalue": "ignored",
     "output_type": "error",
     "traceback": [
      "\u001b[0;31m---------------------------------------------------------------------------\u001b[0m",
      "\u001b[0;31mIndexError\u001b[0m                                Traceback (most recent call last)",
      "\u001b[0;32m<ipython-input-20-8a581720341d>\u001b[0m in \u001b[0;36m<module>\u001b[0;34m()\u001b[0m\n\u001b[0;32m----> 1\u001b[0;31m \u001b[0mloss_functions\u001b[0m\u001b[0;34m[\u001b[0m\u001b[0;34m-\u001b[0m\u001b[0;36m10\u001b[0m\u001b[0;34m]\u001b[0m\u001b[0;34m\u001b[0m\u001b[0;34m\u001b[0m\u001b[0m\n\u001b[0m",
      "\u001b[0;31mIndexError\u001b[0m: list index out of range"
     ]
    }
   ],
   "source": [
    "loss_functions[-10]"
   ]
  },
  {
   "cell_type": "markdown",
   "metadata": {
    "id": "MFMJCkLtuH2e"
   },
   "source": [
    "* It should also be noted that list indexing will return an error if there is no element at that index."
   ]
  },
  {
   "cell_type": "code",
   "execution_count": null,
   "metadata": {
    "colab": {
     "base_uri": "https://localhost:8080/",
     "height": 162
    },
    "id": "BSIWnrXvuH2q",
    "outputId": "1b7905b6-8866-42dc-ab40-3ca614a72c82"
   },
   "outputs": [
    {
     "ename": "IndexError",
     "evalue": "ignored",
     "output_type": "error",
     "traceback": [
      "\u001b[0;31m---------------------------------------------------------------------------\u001b[0m",
      "\u001b[0;31mIndexError\u001b[0m                                Traceback (most recent call last)",
      "\u001b[0;32m<ipython-input-21-4de3193e7629>\u001b[0m in \u001b[0;36m<module>\u001b[0;34m()\u001b[0m\n\u001b[0;32m----> 1\u001b[0;31m \u001b[0mloss_functions\u001b[0m\u001b[0;34m[\u001b[0m\u001b[0;36m8\u001b[0m\u001b[0;34m]\u001b[0m\u001b[0;34m\u001b[0m\u001b[0;34m\u001b[0m\u001b[0m\n\u001b[0m",
      "\u001b[0;31mIndexError\u001b[0m: list index out of range"
     ]
    }
   ],
   "source": [
    "loss_functions[8]"
   ]
  },
  {
   "cell_type": "code",
   "execution_count": 7,
   "metadata": {},
   "outputs": [],
   "source": [
    "x=[1,2,3,[\"a\",\"b\",3,[7,8,9]],\"easilitech\",4.3]"
   ]
  },
  {
   "cell_type": "code",
   "execution_count": 9,
   "metadata": {},
   "outputs": [
    {
     "data": {
      "text/plain": [
       "4.3"
      ]
     },
     "execution_count": 9,
     "metadata": {},
     "output_type": "execute_result"
    }
   ],
   "source": [
    "x[5]"
   ]
  },
  {
   "cell_type": "markdown",
   "metadata": {
    "id": "Sq2OgleGuH23"
   },
   "source": [
    "## List Operations\n",
    "* Remember we said that lists are mutable as opposed to strings. Lets see how can we change the elements of a list"
   ]
  },
  {
   "cell_type": "markdown",
   "metadata": {
    "id": "fDoYdXjFuH24"
   },
   "source": [
    "* We can also use <code>+</code> to concatenate lists, just like we did for strings."
   ]
  },
  {
   "cell_type": "code",
   "execution_count": null,
   "metadata": {
    "colab": {
     "base_uri": "https://localhost:8080/"
    },
    "id": "49GL6IOAqQCe",
    "outputId": "ce2a71fc-dabb-4047-e3cd-877bef7c009a"
   },
   "outputs": [
    {
     "name": "stdout",
     "output_type": "stream",
     "text": [
      "['Mean Absolute Error', 'Mean Squared Error', 'Huber Loss', 'Log Loss', 'Hinge Loss']\n"
     ]
    }
   ],
   "source": [
    "print(loss_functions)"
   ]
  },
  {
   "cell_type": "code",
   "execution_count": null,
   "metadata": {
    "colab": {
     "base_uri": "https://localhost:8080/"
    },
    "id": "V0Oc6-O8uH25",
    "outputId": "c3bc5ca5-afef-469b-91da-cb5e61ac0158"
   },
   "outputs": [
    {
     "data": {
      "text/plain": [
       "['Mean Absolute Error',\n",
       " 'Mean Squared Error',\n",
       " 'Huber Loss',\n",
       " 'Log Loss',\n",
       " 'Hinge Loss',\n",
       " 'Kullback-Leibler']"
      ]
     },
     "execution_count": 22,
     "metadata": {
      "tags": []
     },
     "output_type": "execute_result"
    }
   ],
   "source": [
    "loss_functions + ['Kullback-Leibler']"
   ]
  },
  {
   "cell_type": "markdown",
   "metadata": {
    "id": "_R2ARrFsuH2-"
   },
   "source": [
    "* Note: This doesn't actually change the original list!"
   ]
  },
  {
   "cell_type": "code",
   "execution_count": null,
   "metadata": {
    "colab": {
     "base_uri": "https://localhost:8080/"
    },
    "id": "FiZFhSgMuH3A",
    "outputId": "c8ef487d-2c56-4d52-c307-a6b39ebca887",
    "scrolled": true
   },
   "outputs": [
    {
     "name": "stdout",
     "output_type": "stream",
     "text": [
      "['Mean Absolute Error', 'Mean Squared Error', 'Huber Loss', 'Log Loss', 'Hinge Loss']\n"
     ]
    }
   ],
   "source": [
    "print(loss_functions)"
   ]
  },
  {
   "cell_type": "markdown",
   "metadata": {
    "id": "9BC_N9XIuH3E"
   },
   "source": [
    "* You would have to reassign the list to make the change permanent."
   ]
  },
  {
   "cell_type": "code",
   "execution_count": null,
   "metadata": {
    "id": "rrAKgXGkuH3E"
   },
   "outputs": [],
   "source": [
    "# Reassign\n",
    "loss_functions = loss_functions + ['Kullback-Leibler']"
   ]
  },
  {
   "cell_type": "code",
   "execution_count": null,
   "metadata": {
    "colab": {
     "base_uri": "https://localhost:8080/"
    },
    "id": "kB1NeeiXuH3I",
    "outputId": "71e64809-b69d-43dc-a30e-4d1e8cb8f46a"
   },
   "outputs": [
    {
     "data": {
      "text/plain": [
       "['Mean Absolute Error',\n",
       " 'Mean Squared Error',\n",
       " 'Huber Loss',\n",
       " 'Log Loss',\n",
       " 'Hinge Loss',\n",
       " 'Kullback-Leibler']"
      ]
     },
     "execution_count": 25,
     "metadata": {
      "tags": []
     },
     "output_type": "execute_result"
    }
   ],
   "source": [
    "loss_functions"
   ]
  },
  {
   "cell_type": "markdown",
   "metadata": {
    "id": "kk3-UJ3RuH3N"
   },
   "source": [
    "* We can also use the <code>*</code> for a duplication method similar to strings:"
   ]
  },
  {
   "cell_type": "code",
   "execution_count": 25,
   "metadata": {
    "colab": {
     "base_uri": "https://localhost:8080/"
    },
    "id": "b09L4hO7uH3O",
    "outputId": "a20b00ac-f19f-4091-e5f7-dd81cabdfa76"
   },
   "outputs": [
    {
     "data": {
      "text/plain": [
       "['Mean Absolute Error',\n",
       " 'Mean Squared Error',\n",
       " 'Huber Loss',\n",
       " 'Log Loss',\n",
       " 'Hinge Loss',\n",
       " 'Mean Absolute Error',\n",
       " 'Mean Squared Error',\n",
       " 'Huber Loss',\n",
       " 'Log Loss',\n",
       " 'Hinge Loss',\n",
       " 'Mean Absolute Error',\n",
       " 'Mean Squared Error',\n",
       " 'Huber Loss',\n",
       " 'Log Loss',\n",
       " 'Hinge Loss',\n",
       " 'Mean Absolute Error',\n",
       " 'Mean Squared Error',\n",
       " 'Huber Loss',\n",
       " 'Log Loss',\n",
       " 'Hinge Loss',\n",
       " 'Mean Absolute Error',\n",
       " 'Mean Squared Error',\n",
       " 'Huber Loss',\n",
       " 'Log Loss',\n",
       " 'Hinge Loss',\n",
       " 'Mean Absolute Error',\n",
       " 'Mean Squared Error',\n",
       " 'Huber Loss',\n",
       " 'Log Loss',\n",
       " 'Hinge Loss']"
      ]
     },
     "execution_count": 25,
     "metadata": {},
     "output_type": "execute_result"
    }
   ],
   "source": [
    "# Make the list double\n",
    "loss_functions * 6"
   ]
  },
  {
   "cell_type": "code",
   "execution_count": 92,
   "metadata": {},
   "outputs": [
    {
     "data": {
      "text/plain": [
       "[2, 99, 5, 10, 35]"
      ]
     },
     "execution_count": 92,
     "metadata": {},
     "output_type": "execute_result"
    }
   ],
   "source": [
    "#lists are mutable\n",
    "x=[2,99,5,90,35]\n",
    "x[3]=10\n",
    "x"
   ]
  },
  {
   "cell_type": "code",
   "execution_count": 94,
   "metadata": {},
   "outputs": [
    {
     "data": {
      "text/plain": [
       "[3, 45, 99, 32, 100]"
      ]
     },
     "execution_count": 94,
     "metadata": {},
     "output_type": "execute_result"
    }
   ],
   "source": [
    "x=[3,70,56,32,100]\n",
    "x[1:3]=[45,99]\n",
    "x"
   ]
  },
  {
   "cell_type": "markdown",
   "metadata": {
    "id": "vPF4zcaEuH3X"
   },
   "source": [
    "## List Functions"
   ]
  },
  {
   "cell_type": "markdown",
   "metadata": {
    "id": "6Qd7qKM1uH3Y"
   },
   "source": [
    "### <code>len()</code>\n",
    "\n",
    "\n",
    "* <code>len()</code> function returns the length of the list"
   ]
  },
  {
   "cell_type": "code",
   "execution_count": null,
   "metadata": {
    "colab": {
     "base_uri": "https://localhost:8080/"
    },
    "id": "EOLMTcMvuH3Z",
    "outputId": "e47f380a-dbd3-4261-8e87-62dcad7dcd51"
   },
   "outputs": [
    {
     "name": "stdout",
     "output_type": "stream",
     "text": [
      "['Mean Absolute Error', 'Mean Squared Error', 'Huber Loss', 'Log Loss', 'Hinge Loss', 'Kullback-Leibler']\n"
     ]
    }
   ],
   "source": [
    "print(loss_functions)"
   ]
  },
  {
   "cell_type": "code",
   "execution_count": null,
   "metadata": {
    "colab": {
     "base_uri": "https://localhost:8080/"
    },
    "id": "mNKWrF1wuH3c",
    "outputId": "d827527a-2d18-4dca-d9fd-a3eb8cff6eba"
   },
   "outputs": [
    {
     "data": {
      "text/plain": [
       "6"
      ]
     },
     "execution_count": 30,
     "metadata": {
      "tags": []
     },
     "output_type": "execute_result"
    }
   ],
   "source": [
    "len(loss_functions)"
   ]
  },
  {
   "cell_type": "markdown",
   "metadata": {
    "id": "p7d98KoOuH3f"
   },
   "source": [
    "### <code>min()</code>\n",
    "\n",
    "\n",
    "* <code>min()</code> function returns the minimum element of the list\n",
    "\n",
    "\n",
    "* <code>min()</code> function only works with lists of similar data types"
   ]
  },
  {
   "cell_type": "code",
   "execution_count": 12,
   "metadata": {
    "id": "wLccOV7wuH3f"
   },
   "outputs": [],
   "source": [
    "new_list = [6, 9, 1, 3, 5.5,\"a\"]"
   ]
  },
  {
   "cell_type": "code",
   "execution_count": 13,
   "metadata": {
    "colab": {
     "base_uri": "https://localhost:8080/"
    },
    "id": "Y2Cu7bw0uH3j",
    "outputId": "aed53c7d-4b6a-4735-a2a1-45c0f7d14d85"
   },
   "outputs": [
    {
     "ename": "TypeError",
     "evalue": "'<' not supported between instances of 'str' and 'int'",
     "output_type": "error",
     "traceback": [
      "\u001b[0;31m---------------------------------------------------------------------------\u001b[0m",
      "\u001b[0;31mTypeError\u001b[0m                                 Traceback (most recent call last)",
      "Cell \u001b[0;32mIn[13], line 1\u001b[0m\n\u001b[0;32m----> 1\u001b[0m \u001b[38;5;28;43mmin\u001b[39;49m\u001b[43m(\u001b[49m\u001b[43mnew_list\u001b[49m\u001b[43m)\u001b[49m\n",
      "\u001b[0;31mTypeError\u001b[0m: '<' not supported between instances of 'str' and 'int'"
     ]
    }
   ],
   "source": [
    "min(new_list)"
   ]
  },
  {
   "cell_type": "code",
   "execution_count": 14,
   "metadata": {
    "id": "CE51jhX2Os8i"
   },
   "outputs": [],
   "source": [
    "my_new_list = ['a','b', 'z' ,'y' , 'm']"
   ]
  },
  {
   "cell_type": "code",
   "execution_count": 15,
   "metadata": {
    "colab": {
     "base_uri": "https://localhost:8080/",
     "height": 34
    },
    "id": "xU0MNka-OzHv",
    "outputId": "9c6902ef-1777-4da2-b9f3-e2a5cdfccc25"
   },
   "outputs": [
    {
     "data": {
      "text/plain": [
       "'a'"
      ]
     },
     "execution_count": 15,
     "metadata": {},
     "output_type": "execute_result"
    }
   ],
   "source": [
    "min(my_new_list)"
   ]
  },
  {
   "cell_type": "markdown",
   "metadata": {
    "id": "et3AsvCkuH3n"
   },
   "source": [
    "### <code>max()</code>\n",
    "\n",
    "\n",
    "* <code>max()</code> function returns the maximum element of the list\n",
    "\n",
    "\n",
    "* <code>max()</code> function only works with lists of similar data types"
   ]
  },
  {
   "cell_type": "code",
   "execution_count": 16,
   "metadata": {
    "id": "ehW2DQUouH3o"
   },
   "outputs": [],
   "source": [
    "new_list = ['Argue','Burglar','Parent','Linear','shape']"
   ]
  },
  {
   "cell_type": "code",
   "execution_count": 17,
   "metadata": {
    "colab": {
     "base_uri": "https://localhost:8080/",
     "height": 34
    },
    "id": "oexyHaR1uH3r",
    "outputId": "ec6902c1-afc4-43bb-820c-e92228bc15bc"
   },
   "outputs": [
    {
     "data": {
      "text/plain": [
       "'shape'"
      ]
     },
     "execution_count": 17,
     "metadata": {},
     "output_type": "execute_result"
    }
   ],
   "source": [
    "max(new_list)"
   ]
  },
  {
   "cell_type": "markdown",
   "metadata": {
    "id": "1sitoBoVuH3u"
   },
   "source": [
    "### <code>sum()</code>\n",
    "\n",
    "\n",
    "* <code>sum()</code> function returns the sum of the elements of the list\n",
    "\n",
    "\n",
    "* <code>sum()</code> function only works with lists of numeric data types"
   ]
  },
  {
   "cell_type": "code",
   "execution_count": null,
   "metadata": {
    "id": "cXT_0utXuH3u"
   },
   "outputs": [],
   "source": [
    "new_list = [6, 9, 1, 3, 5.5]"
   ]
  },
  {
   "cell_type": "code",
   "execution_count": null,
   "metadata": {
    "colab": {
     "base_uri": "https://localhost:8080/"
    },
    "id": "tV5c5mkGuH3x",
    "outputId": "8139efe4-e2a1-4292-e367-fe81502a472f"
   },
   "outputs": [
    {
     "data": {
      "text/plain": [
       "24.5"
      ]
     },
     "execution_count": 38,
     "metadata": {
      "tags": []
     },
     "output_type": "execute_result"
    }
   ],
   "source": [
    "sum(new_list)"
   ]
  },
  {
   "cell_type": "markdown",
   "metadata": {},
   "source": [
    "# mean()"
   ]
  },
  {
   "cell_type": "code",
   "execution_count": 97,
   "metadata": {},
   "outputs": [
    {
     "data": {
      "text/plain": [
       "4.8"
      ]
     },
     "execution_count": 97,
     "metadata": {},
     "output_type": "execute_result"
    }
   ],
   "source": [
    "from statistics import mean\n",
    "mean(new_list)"
   ]
  },
  {
   "cell_type": "code",
   "execution_count": 98,
   "metadata": {},
   "outputs": [
    {
     "name": "stdout",
     "output_type": "stream",
     "text": [
      "4.8\n"
     ]
    }
   ],
   "source": [
    "x=sum(new_list)\n",
    "y=len(new_list)\n",
    "z=x/y\n",
    "print(z)"
   ]
  },
  {
   "cell_type": "markdown",
   "metadata": {
    "id": "V31491BvuH3z"
   },
   "source": [
    "### <code>sorted()</code>\n",
    "\n",
    "\n",
    "* <code>sorted()</code> function returns the sorted list \n",
    "\n",
    "\n",
    "* <code>sorted()</code> function takes reverse boolean as an argument\n",
    "\n",
    "\n",
    "* <code>sorted()</code> function only works on a list with similar data types"
   ]
  },
  {
   "cell_type": "code",
   "execution_count": null,
   "metadata": {
    "colab": {
     "base_uri": "https://localhost:8080/"
    },
    "id": "yXeGjCRCuH30",
    "outputId": "050b450e-d9fa-4e46-afd1-e9d3801819b2"
   },
   "outputs": [
    {
     "data": {
      "text/plain": [
       "[6, 9, 1, 3, 5.5]"
      ]
     },
     "execution_count": 39,
     "metadata": {
      "tags": []
     },
     "output_type": "execute_result"
    }
   ],
   "source": [
    "new_list"
   ]
  },
  {
   "cell_type": "code",
   "execution_count": null,
   "metadata": {
    "colab": {
     "base_uri": "https://localhost:8080/"
    },
    "id": "RoS_1mnyuH34",
    "outputId": "6697b1ba-dfcb-45e2-85e0-124926f5db7c"
   },
   "outputs": [
    {
     "data": {
      "text/plain": [
       "[1, 3, 5.5, 6, 9]"
      ]
     },
     "execution_count": 40,
     "metadata": {
      "tags": []
     },
     "output_type": "execute_result"
    }
   ],
   "source": [
    "sorted(new_list)"
   ]
  },
  {
   "cell_type": "code",
   "execution_count": null,
   "metadata": {
    "colab": {
     "base_uri": "https://localhost:8080/"
    },
    "id": "0gQjBslbRFLH",
    "outputId": "aa91f811-9b0b-45b7-eee3-3793f9696118"
   },
   "outputs": [
    {
     "name": "stdout",
     "output_type": "stream",
     "text": [
      "[6, 9, 1, 3, 5.5]\n"
     ]
    }
   ],
   "source": [
    "print(new_list)"
   ]
  },
  {
   "cell_type": "code",
   "execution_count": null,
   "metadata": {
    "id": "4t5yFdfLuJZi"
   },
   "outputs": [],
   "source": [
    "new_list = ['Argue','Burglar','Parent','Linear','shape']"
   ]
  },
  {
   "cell_type": "code",
   "execution_count": null,
   "metadata": {
    "colab": {
     "base_uri": "https://localhost:8080/",
     "height": 34
    },
    "id": "PSPWx6EDuKw_",
    "outputId": "4d50fad9-ac1b-429e-f05b-8568dc5ef10c"
   },
   "outputs": [
    {
     "data": {
      "text/plain": [
       "['Argue', 'Burglar', 'Linear', 'Parent', 'shape']"
      ]
     },
     "execution_count": 131,
     "metadata": {
      "tags": []
     },
     "output_type": "execute_result"
    }
   ],
   "source": [
    "sorted(new_list)"
   ]
  },
  {
   "cell_type": "code",
   "execution_count": null,
   "metadata": {
    "colab": {
     "base_uri": "https://localhost:8080/",
     "height": 34
    },
    "id": "YAybCJVUtElx",
    "outputId": "46a45b92-d652-4588-b719-addba726479c"
   },
   "outputs": [
    {
     "name": "stdout",
     "output_type": "stream",
     "text": [
      "[6, 9, 1, 3, 5.5]\n"
     ]
    }
   ],
   "source": [
    "print(new_list)"
   ]
  },
  {
   "cell_type": "code",
   "execution_count": null,
   "metadata": {
    "colab": {
     "base_uri": "https://localhost:8080/"
    },
    "id": "qh3oquvquH38",
    "outputId": "b2ac2957-3539-456a-f247-259bc2a6919e"
   },
   "outputs": [
    {
     "data": {
      "text/plain": [
       "[9, 6, 5.5, 3, 1]"
      ]
     },
     "execution_count": 47,
     "metadata": {
      "tags": []
     },
     "output_type": "execute_result"
    }
   ],
   "source": [
    "sorted(new_list,reverse=True)"
   ]
  },
  {
   "cell_type": "code",
   "execution_count": null,
   "metadata": {
    "colab": {
     "base_uri": "https://localhost:8080/",
     "height": 166
    },
    "id": "e-eFh2jKRvJv",
    "outputId": "ad5a2239-7bb1-48b4-a60c-db15227b8c72"
   },
   "outputs": [
    {
     "ename": "TypeError",
     "evalue": "ignored",
     "output_type": "error",
     "traceback": [
      "\u001b[0;31m---------------------------------------------------------------------------\u001b[0m",
      "\u001b[0;31mTypeError\u001b[0m                                 Traceback (most recent call last)",
      "\u001b[0;32m<ipython-input-45-99e16da477d4>\u001b[0m in \u001b[0;36m<module>\u001b[0;34m()\u001b[0m\n\u001b[0;32m----> 1\u001b[0;31m \u001b[0msorted\u001b[0m\u001b[0;34m(\u001b[0m\u001b[0mnew_list\u001b[0m\u001b[0;34m,\u001b[0m\u001b[0;32mFalse\u001b[0m\u001b[0;34m)\u001b[0m\u001b[0;34m\u001b[0m\u001b[0;34m\u001b[0m\u001b[0m\n\u001b[0m",
      "\u001b[0;31mTypeError\u001b[0m: sorted expected 1 arguments, got 2"
     ]
    }
   ],
   "source": [
    "sorted(new_list)"
   ]
  },
  {
   "cell_type": "markdown",
   "metadata": {
    "id": "m4XdxpZHuH4B"
   },
   "source": [
    "* <code>sorted()</code> function does not change our list"
   ]
  },
  {
   "cell_type": "code",
   "execution_count": null,
   "metadata": {
    "colab": {
     "base_uri": "https://localhost:8080/"
    },
    "id": "3y-kuB8tuH4B",
    "outputId": "3fb2a7d2-b2ad-4d59-83fc-5c8294d7d4f5"
   },
   "outputs": [
    {
     "data": {
      "text/plain": [
       "[6, 9, 1, 3, 5.5]"
      ]
     },
     "execution_count": 44,
     "metadata": {
      "tags": []
     },
     "output_type": "execute_result"
    }
   ],
   "source": [
    "new_list"
   ]
  },
  {
   "cell_type": "markdown",
   "metadata": {
    "id": "gzCO-o-1uH4F"
   },
   "source": [
    "## List Methods\n",
    "\n",
    "* If you are familiar with another programming language, you might start to draw parallels between arrays in another language and lists in Python. Lists in Python however, tend to be more flexible than arrays in other languages for a two good reasons: they have no fixed size (meaning we don't have to specify how big a list will be), and they have no fixed type constraint (like we've seen above).\n",
    "\n",
    "\n",
    "* Let's go ahead and explore some more special methods for lists:"
   ]
  },
  {
   "cell_type": "code",
   "execution_count": 27,
   "metadata": {
    "id": "q-kfah9VuH4H"
   },
   "outputs": [],
   "source": [
    "# Create a new list\n",
    "my_list = [1,2,3,1,1,1,3,10,5,8]"
   ]
  },
  {
   "cell_type": "markdown",
   "metadata": {
    "id": "BgmqyEUHuH4M"
   },
   "source": [
    "### <code>append()</code> \n",
    "\n",
    "* Use the <code>append()</code> method to permanently add an item to the end of a list.\n",
    "\n",
    "\n",
    "* <code>append()</code> method takes the element which you want to add to the list as an argument"
   ]
  },
  {
   "cell_type": "code",
   "execution_count": 18,
   "metadata": {
    "colab": {
     "base_uri": "https://localhost:8080/"
    },
    "id": "saQ5SspXuH4M",
    "outputId": "c2982c0b-26cb-4715-dbfb-5308f7945bbf"
   },
   "outputs": [
    {
     "ename": "NameError",
     "evalue": "name 'my_list' is not defined",
     "output_type": "error",
     "traceback": [
      "\u001b[0;31m---------------------------------------------------------------------------\u001b[0m",
      "\u001b[0;31mNameError\u001b[0m                                 Traceback (most recent call last)",
      "Cell \u001b[0;32mIn[18], line 2\u001b[0m\n\u001b[1;32m      1\u001b[0m \u001b[38;5;66;03m# Print the list\u001b[39;00m\n\u001b[0;32m----> 2\u001b[0m \u001b[43mmy_list\u001b[49m\n",
      "\u001b[0;31mNameError\u001b[0m: name 'my_list' is not defined"
     ]
    }
   ],
   "source": [
    "# Print the list\n",
    "my_list"
   ]
  },
  {
   "cell_type": "code",
   "execution_count": 19,
   "metadata": {},
   "outputs": [],
   "source": [
    "my_list=[2,4,6,9]"
   ]
  },
  {
   "cell_type": "code",
   "execution_count": 20,
   "metadata": {
    "id": "byL4_5EruH4Q"
   },
   "outputs": [],
   "source": [
    "# Append to the end of the list\n",
    "my_list.append('Append me!')"
   ]
  },
  {
   "cell_type": "markdown",
   "metadata": {
    "id": "7yniA300uH4V"
   },
   "source": [
    "* Ah darn it! I was expecting some output. Lets see what happened to <code>my_list</code>"
   ]
  },
  {
   "cell_type": "code",
   "execution_count": 22,
   "metadata": {
    "colab": {
     "base_uri": "https://localhost:8080/"
    },
    "id": "t1qW2S6SuH4W",
    "outputId": "4d828b5f-8afb-4995-bd38-08faffa1c138"
   },
   "outputs": [
    {
     "name": "stdout",
     "output_type": "stream",
     "text": [
      "[2, 4, 6, 9, 'Append me!']\n"
     ]
    }
   ],
   "source": [
    "print(my_list)"
   ]
  },
  {
   "cell_type": "code",
   "execution_count": 32,
   "metadata": {
    "colab": {
     "base_uri": "https://localhost:8080/"
    },
    "id": "9BMYgas1XeYO",
    "outputId": "3ca4b093-098c-4406-fcdf-7dd22332b9b3"
   },
   "outputs": [
    {
     "data": {
      "text/plain": [
       "11"
      ]
     },
     "execution_count": 32,
     "metadata": {},
     "output_type": "execute_result"
    }
   ],
   "source": [
    "len(my_list)"
   ]
  },
  {
   "cell_type": "markdown",
   "metadata": {
    "id": "L4UT-17_uH4c"
   },
   "source": [
    "* Woah! Calling the <code>append()</code> method changed my list? Yes, the <code>append()</code>  method changes your original list!"
   ]
  },
  {
   "cell_type": "code",
   "execution_count": 23,
   "metadata": {
    "id": "_llNxOVDuH4c"
   },
   "outputs": [],
   "source": [
    "# Show\n",
    "my_list.append(2.73)"
   ]
  },
  {
   "cell_type": "code",
   "execution_count": 24,
   "metadata": {
    "colab": {
     "base_uri": "https://localhost:8080/"
    },
    "id": "dc-ercdKuH4h",
    "outputId": "11db0d20-fa02-41a6-f831-bc4ed6f80b79"
   },
   "outputs": [
    {
     "name": "stdout",
     "output_type": "stream",
     "text": [
      "[2, 4, 6, 9, 'Append me!', 2.73]\n"
     ]
    }
   ],
   "source": [
    "print(my_list)"
   ]
  },
  {
   "cell_type": "markdown",
   "metadata": {
    "id": "3NrEzBJFuH4u"
   },
   "source": [
    "* We can in fact add a list object to our <code>my_list</code> object"
   ]
  },
  {
   "cell_type": "code",
   "execution_count": 25,
   "metadata": {
    "id": "xIMMzSLNuH4u"
   },
   "outputs": [],
   "source": [
    "my_list.append([1,2,3])"
   ]
  },
  {
   "cell_type": "code",
   "execution_count": 26,
   "metadata": {
    "colab": {
     "base_uri": "https://localhost:8080/"
    },
    "id": "CjjTg7jAuH4y",
    "outputId": "2c0fc982-1fe4-4dd6-a6cb-25ddb69506ad"
   },
   "outputs": [
    {
     "data": {
      "text/plain": [
       "[2, 4, 6, 9, 'Append me!', 2.73, [1, 2, 3]]"
      ]
     },
     "execution_count": 26,
     "metadata": {},
     "output_type": "execute_result"
    }
   ],
   "source": [
    "my_list"
   ]
  },
  {
   "cell_type": "code",
   "execution_count": 37,
   "metadata": {
    "colab": {
     "base_uri": "https://localhost:8080/"
    },
    "id": "vd8gGikTYUF4",
    "outputId": "cd1451a3-612d-4508-dcfb-e34c1dfb82e7"
   },
   "outputs": [
    {
     "data": {
      "text/plain": [
       "13"
      ]
     },
     "execution_count": 37,
     "metadata": {},
     "output_type": "execute_result"
    }
   ],
   "source": [
    "len(my_list)"
   ]
  },
  {
   "cell_type": "code",
   "execution_count": 38,
   "metadata": {
    "id": "tPnUf3nbYgqs"
   },
   "outputs": [],
   "source": [
    "my_list.append([10,[19,20],30])"
   ]
  },
  {
   "cell_type": "code",
   "execution_count": 39,
   "metadata": {
    "colab": {
     "base_uri": "https://localhost:8080/"
    },
    "id": "Blq4mDwXYme1",
    "outputId": "4e353abf-cdf1-4c17-ad2f-a950fca2a4f2"
   },
   "outputs": [
    {
     "data": {
      "text/plain": [
       "14"
      ]
     },
     "execution_count": 39,
     "metadata": {},
     "output_type": "execute_result"
    }
   ],
   "source": [
    "len(my_list)"
   ]
  },
  {
   "cell_type": "markdown",
   "metadata": {
    "id": "tGmbu4MKuH43"
   },
   "source": [
    "### <code>extend()</code>\n",
    "\n",
    "* Use the <code> extend()</code> method to merge a list to an existing list\n",
    "\n",
    "\n",
    "* <code> extend()</code> method takes a list or any iterable(don't worry about it now) as an argument.\n",
    "\n",
    "\n",
    "* Quite helpful when you have two or more lists and you want to merge them together"
   ]
  },
  {
   "cell_type": "code",
   "execution_count": 27,
   "metadata": {
    "colab": {
     "base_uri": "https://localhost:8080/"
    },
    "id": "yvkbC_3uuH43",
    "outputId": "c08aa741-8123-40b6-f96e-754b6b46d1ef"
   },
   "outputs": [
    {
     "name": "stdout",
     "output_type": "stream",
     "text": [
      "[2, 4, 6, 9, 'Append me!', 2.73, [1, 2, 3]]\n"
     ]
    }
   ],
   "source": [
    "# Print the list\n",
    "print(my_list)"
   ]
  },
  {
   "cell_type": "code",
   "execution_count": 28,
   "metadata": {
    "id": "gdvUZUYEuH49"
   },
   "outputs": [],
   "source": [
    "my_list.extend(['Wubba','Lubba','Dub Dub'])"
   ]
  },
  {
   "cell_type": "code",
   "execution_count": 29,
   "metadata": {
    "colab": {
     "base_uri": "https://localhost:8080/"
    },
    "id": "PU-1mE1xuH5A",
    "outputId": "49f1b361-b864-459f-a72b-1f0953b9c917"
   },
   "outputs": [
    {
     "name": "stdout",
     "output_type": "stream",
     "text": [
      "[2, 4, 6, 9, 'Append me!', 2.73, [1, 2, 3], 'Wubba', 'Lubba', 'Dub Dub']\n"
     ]
    }
   ],
   "source": [
    "print(my_list)"
   ]
  },
  {
   "cell_type": "code",
   "execution_count": 43,
   "metadata": {
    "colab": {
     "base_uri": "https://localhost:8080/"
    },
    "id": "hQo7GQA0aDIz",
    "outputId": "60cd68d4-03d8-416a-ac6a-57d057c16469"
   },
   "outputs": [
    {
     "data": {
      "text/plain": [
       "17"
      ]
     },
     "execution_count": 43,
     "metadata": {},
     "output_type": "execute_result"
    }
   ],
   "source": [
    "len(my_list)"
   ]
  },
  {
   "cell_type": "markdown",
   "metadata": {},
   "source": [
    "# insert()"
   ]
  },
  {
   "cell_type": "code",
   "execution_count": 38,
   "metadata": {},
   "outputs": [],
   "source": [
    "x=[\"a\",5,8,21,90,12]"
   ]
  },
  {
   "cell_type": "code",
   "execution_count": 39,
   "metadata": {},
   "outputs": [],
   "source": [
    "x.insert(3,\"b\")"
   ]
  },
  {
   "cell_type": "code",
   "execution_count": 40,
   "metadata": {},
   "outputs": [
    {
     "name": "stdout",
     "output_type": "stream",
     "text": [
      "['a', 5, 8, 'b', 21, 90, 12]\n"
     ]
    }
   ],
   "source": [
    "print(x)"
   ]
  },
  {
   "cell_type": "markdown",
   "metadata": {},
   "source": [
    "# pop()"
   ]
  },
  {
   "cell_type": "code",
   "execution_count": 41,
   "metadata": {},
   "outputs": [],
   "source": [
    "my_list=[2, 4, 6, 9, 'Append me!', 2.73, [1, 2, 3], 'Wubba', 'Lubba','Dub Dub']"
   ]
  },
  {
   "cell_type": "code",
   "execution_count": 42,
   "metadata": {
    "colab": {
     "base_uri": "https://localhost:8080/",
     "height": 34
    },
    "id": "k1OLmtIquH5M",
    "outputId": "d93570f5-f48b-4228-ef47-b6e6c66214ce"
   },
   "outputs": [
    {
     "data": {
      "text/plain": [
       "'Dub Dub'"
      ]
     },
     "execution_count": 42,
     "metadata": {},
     "output_type": "execute_result"
    }
   ],
   "source": [
    "# Pop off the 0 indexed item\n",
    "my_list.pop()"
   ]
  },
  {
   "cell_type": "code",
   "execution_count": 43,
   "metadata": {},
   "outputs": [
    {
     "data": {
      "text/plain": [
       "[2, 4, 6, 9, 'Append me!', 2.73, [1, 2, 3], 'Wubba', 'Lubba']"
      ]
     },
     "execution_count": 43,
     "metadata": {},
     "output_type": "execute_result"
    }
   ],
   "source": [
    "my_list"
   ]
  },
  {
   "cell_type": "markdown",
   "metadata": {
    "id": "SNWR6QjouH5Q"
   },
   "source": [
    "* <code>pop()</code> method changes the list by popping off the element at the specified index"
   ]
  },
  {
   "cell_type": "code",
   "execution_count": 44,
   "metadata": {
    "colab": {
     "base_uri": "https://localhost:8080/"
    },
    "id": "TFiATwmXuH5R",
    "outputId": "892b870c-7214-44d0-b64c-b6b5d45b58fa"
   },
   "outputs": [
    {
     "name": "stdout",
     "output_type": "stream",
     "text": [
      "[2, 4, 6, 9, 'Append me!', 2.73, [1, 2, 3], 'Wubba', 'Lubba']\n"
     ]
    }
   ],
   "source": [
    "print(my_list)"
   ]
  },
  {
   "cell_type": "code",
   "execution_count": 45,
   "metadata": {
    "colab": {
     "base_uri": "https://localhost:8080/",
     "height": 34
    },
    "id": "33cAUa7wuH5V",
    "outputId": "1b59c0c9-720c-44dd-9b93-b86a038f8247"
   },
   "outputs": [
    {
     "data": {
      "text/plain": [
       "'Lubba'"
      ]
     },
     "execution_count": 45,
     "metadata": {},
     "output_type": "execute_result"
    }
   ],
   "source": [
    "# Assign the popped element, remember default popped index is -1\n",
    "my_list.pop(-1)"
   ]
  },
  {
   "cell_type": "code",
   "execution_count": 46,
   "metadata": {
    "colab": {
     "base_uri": "https://localhost:8080/",
     "height": 34
    },
    "id": "qX6eae3UuH5c",
    "outputId": "08189d70-99a6-4f62-821e-ad3221073dfa"
   },
   "outputs": [
    {
     "data": {
      "text/plain": [
       "8"
      ]
     },
     "execution_count": 46,
     "metadata": {},
     "output_type": "execute_result"
    }
   ],
   "source": [
    "len(my_list)"
   ]
  },
  {
   "cell_type": "code",
   "execution_count": 47,
   "metadata": {
    "colab": {
     "base_uri": "https://localhost:8080/"
    },
    "id": "pHi_Ws8uw0w0",
    "outputId": "9cbdafc3-fe09-4f66-ae68-60f258248518"
   },
   "outputs": [
    {
     "name": "stdout",
     "output_type": "stream",
     "text": [
      "[2, 4, 6, 9, 'Append me!', 2.73, [1, 2, 3], 'Wubba']\n"
     ]
    }
   ],
   "source": [
    "print(my_list)"
   ]
  },
  {
   "cell_type": "markdown",
   "metadata": {
    "id": "YBAQ1FyQuH5f"
   },
   "source": [
    "### <code>remove()</code>\n",
    "\n",
    "* Use <code>remove()</code> to remove an item/element from the list. \n",
    "\n",
    "\n",
    "* By default <code>remove()</code> removes the specified element from the list.\n",
    "\n",
    "\n",
    "* <code>remove()</code> takes the element as an argument."
   ]
  },
  {
   "cell_type": "code",
   "execution_count": 48,
   "metadata": {
    "colab": {
     "base_uri": "https://localhost:8080/"
    },
    "id": "j9pp3cEJuH5g",
    "outputId": "54605d02-0db9-4f8d-d4c2-4e7496e3ed70"
   },
   "outputs": [
    {
     "name": "stdout",
     "output_type": "stream",
     "text": [
      "[2, 4, 6, 9, 'Append me!', 2.73, [1, 2, 3], 'Wubba']\n"
     ]
    }
   ],
   "source": [
    "# Print the list\n",
    "print(my_list)"
   ]
  },
  {
   "cell_type": "code",
   "execution_count": 49,
   "metadata": {
    "id": "pTPu7lszuH5j"
   },
   "outputs": [],
   "source": [
    "# Remove the element which you want to \n",
    "my_list.remove(2.73)"
   ]
  },
  {
   "cell_type": "code",
   "execution_count": 50,
   "metadata": {
    "colab": {
     "base_uri": "https://localhost:8080/"
    },
    "id": "wI2Yz2UYuH5p",
    "outputId": "7869e1cf-2e5a-48ad-86b8-131ba87df250"
   },
   "outputs": [
    {
     "name": "stdout",
     "output_type": "stream",
     "text": [
      "[2, 4, 6, 9, 'Append me!', [1, 2, 3], 'Wubba']\n"
     ]
    }
   ],
   "source": [
    "# Show\n",
    "print(my_list)"
   ]
  },
  {
   "cell_type": "code",
   "execution_count": 51,
   "metadata": {
    "id": "OWn2q_6cxYo2"
   },
   "outputs": [],
   "source": [
    "my_list.remove([1,2,3])"
   ]
  },
  {
   "cell_type": "code",
   "execution_count": 52,
   "metadata": {
    "colab": {
     "base_uri": "https://localhost:8080/"
    },
    "id": "D_duqvRJxd16",
    "outputId": "fbbca78e-e6d6-4e35-c09b-7012e936f468"
   },
   "outputs": [
    {
     "name": "stdout",
     "output_type": "stream",
     "text": [
      "[2, 4, 6, 9, 'Append me!', 'Wubba']\n"
     ]
    }
   ],
   "source": [
    "print(my_list)"
   ]
  },
  {
   "cell_type": "code",
   "execution_count": 53,
   "metadata": {
    "colab": {
     "base_uri": "https://localhost:8080/",
     "height": 34
    },
    "id": "i8h8-qVtxhPI",
    "outputId": "e44f91cd-7959-4c28-b7f1-a536c7a6bc31"
   },
   "outputs": [
    {
     "data": {
      "text/plain": [
       "6"
      ]
     },
     "execution_count": 53,
     "metadata": {},
     "output_type": "execute_result"
    }
   ],
   "source": [
    "len(my_list)"
   ]
  },
  {
   "cell_type": "code",
   "execution_count": 55,
   "metadata": {
    "id": "f5-UZ88Exwth"
   },
   "outputs": [],
   "source": [
    "my_list.extend([1,1,1])"
   ]
  },
  {
   "cell_type": "code",
   "execution_count": 56,
   "metadata": {
    "colab": {
     "base_uri": "https://localhost:8080/",
     "height": 34
    },
    "id": "d3WxCp0Cxzty",
    "outputId": "07f8af9d-9fc7-4f8b-ffdd-8ce5ee2c99de"
   },
   "outputs": [
    {
     "name": "stdout",
     "output_type": "stream",
     "text": [
      "[2, 4, 6, 9, 'Append me!', 'Wubba', 1, 1, 1]\n"
     ]
    }
   ],
   "source": [
    "print(my_list)"
   ]
  },
  {
   "cell_type": "code",
   "execution_count": 57,
   "metadata": {
    "colab": {
     "base_uri": "https://localhost:8080/",
     "height": 34
    },
    "id": "4ewbAKKhx-vS",
    "outputId": "fcf8fe18-ccbc-4913-f514-0f12d52561a8"
   },
   "outputs": [],
   "source": [
    "my_list.remove(1)"
   ]
  },
  {
   "cell_type": "code",
   "execution_count": 58,
   "metadata": {},
   "outputs": [
    {
     "name": "stdout",
     "output_type": "stream",
     "text": [
      "[2, 4, 6, 9, 'Append me!', 'Wubba', 1, 1]\n"
     ]
    }
   ],
   "source": [
    "print(my_list)"
   ]
  },
  {
   "cell_type": "markdown",
   "metadata": {},
   "source": [
    "# Clear()"
   ]
  },
  {
   "cell_type": "code",
   "execution_count": 63,
   "metadata": {
    "id": "-gey8zXHcsH5"
   },
   "outputs": [],
   "source": [
    "my_list.clear()"
   ]
  },
  {
   "cell_type": "code",
   "execution_count": 64,
   "metadata": {},
   "outputs": [
    {
     "data": {
      "text/plain": [
       "[]"
      ]
     },
     "execution_count": 64,
     "metadata": {},
     "output_type": "execute_result"
    }
   ],
   "source": [
    "my_list"
   ]
  },
  {
   "cell_type": "markdown",
   "metadata": {
    "id": "Wheg57npuH5t"
   },
   "source": [
    "### <code>count()</code>\n",
    "\n",
    "\n",
    "* The <code>count()</code> method returns the total occurrence of a specified element in the list"
   ]
  },
  {
   "cell_type": "code",
   "execution_count": 66,
   "metadata": {},
   "outputs": [],
   "source": [
    "my_list = [1,2,3,1,1,1,3,10,5,8]"
   ]
  },
  {
   "cell_type": "code",
   "execution_count": 67,
   "metadata": {
    "colab": {
     "base_uri": "https://localhost:8080/"
    },
    "id": "ECnUwg_eyG47",
    "outputId": "40ee7017-8927-4661-97ec-9294def52ec7"
   },
   "outputs": [
    {
     "name": "stdout",
     "output_type": "stream",
     "text": [
      "[1, 2, 3, 1, 1, 1, 3, 10, 5, 8]\n"
     ]
    }
   ],
   "source": [
    "print(my_list)"
   ]
  },
  {
   "cell_type": "code",
   "execution_count": 68,
   "metadata": {
    "colab": {
     "base_uri": "https://localhost:8080/"
    },
    "id": "v62QCGFTuH5u",
    "outputId": "d8a05aa6-9665-45e8-ae95-ba3508f1cafb"
   },
   "outputs": [
    {
     "data": {
      "text/plain": [
       "4"
      ]
     },
     "execution_count": 68,
     "metadata": {},
     "output_type": "execute_result"
    }
   ],
   "source": [
    "# Count the number of times element 1 occurs in my_list\n",
    "my_list.count(1)"
   ]
  },
  {
   "cell_type": "code",
   "execution_count": 69,
   "metadata": {
    "colab": {
     "base_uri": "https://localhost:8080/"
    },
    "id": "LA3k4qScuH5z",
    "outputId": "643ff309-87e8-47df-8187-0e0739c134ba"
   },
   "outputs": [
    {
     "data": {
      "text/plain": [
       "0"
      ]
     },
     "execution_count": 69,
     "metadata": {},
     "output_type": "execute_result"
    }
   ],
   "source": [
    "my_list.count(100)"
   ]
  },
  {
   "cell_type": "markdown",
   "metadata": {
    "id": "avyykdGjuH52"
   },
   "source": [
    "### <code>index()</code>\n",
    "\n",
    "\n",
    "* The <code>index()</code> method returns the index of a specified element."
   ]
  },
  {
   "cell_type": "code",
   "execution_count": 70,
   "metadata": {
    "colab": {
     "base_uri": "https://localhost:8080/"
    },
    "id": "78Mc3vSuydeb",
    "outputId": "1a66af92-132e-495b-d456-c13b9626be6b"
   },
   "outputs": [
    {
     "name": "stdout",
     "output_type": "stream",
     "text": [
      "[1, 2, 3, 1, 1, 1, 3, 10, 5, 8]\n"
     ]
    }
   ],
   "source": [
    "print(my_list)"
   ]
  },
  {
   "cell_type": "code",
   "execution_count": 73,
   "metadata": {
    "colab": {
     "base_uri": "https://localhost:8080/"
    },
    "id": "k-ByxvTYuH54",
    "outputId": "2d8dc546-4cb7-421a-e8c5-9bfa6972a5d5"
   },
   "outputs": [
    {
     "data": {
      "text/plain": [
       "2"
      ]
     },
     "execution_count": 73,
     "metadata": {},
     "output_type": "execute_result"
    }
   ],
   "source": [
    "my_list.index(3)"
   ]
  },
  {
   "cell_type": "code",
   "execution_count": 74,
   "metadata": {
    "colab": {
     "base_uri": "https://localhost:8080/"
    },
    "id": "ziOkTs68uH52",
    "outputId": "1ae8d692-47bb-4e28-b496-9356b10db045"
   },
   "outputs": [
    {
     "ename": "ValueError",
     "evalue": "'Wubba' is not in list",
     "output_type": "error",
     "traceback": [
      "\u001b[0;31m---------------------------------------------------------------------------\u001b[0m",
      "\u001b[0;31mValueError\u001b[0m                                Traceback (most recent call last)",
      "Cell \u001b[0;32mIn[74], line 1\u001b[0m\n\u001b[0;32m----> 1\u001b[0m \u001b[43mmy_list\u001b[49m\u001b[38;5;241;43m.\u001b[39;49m\u001b[43mindex\u001b[49m\u001b[43m(\u001b[49m\u001b[38;5;124;43m'\u001b[39;49m\u001b[38;5;124;43mWubba\u001b[39;49m\u001b[38;5;124;43m'\u001b[39;49m\u001b[43m)\u001b[49m\n",
      "\u001b[0;31mValueError\u001b[0m: 'Wubba' is not in list"
     ]
    }
   ],
   "source": [
    "my_list.index('Wubba')"
   ]
  },
  {
   "cell_type": "markdown",
   "metadata": {
    "id": "f4JqHtEouH57"
   },
   "source": [
    "### <code>sort()</code>\n",
    "\n",
    "* Use <code>sort()</code> to sort the list in either ascending/descending order\n",
    "\n",
    "\n",
    "* The sorting is done in ascending order by default\n",
    "\n",
    "\n",
    "* <code>sort()</code> method takes the reverse boolean as an argument\n",
    "\n",
    "\n",
    "* <code>sort()</code> method only works on a list with elements of same data type"
   ]
  },
  {
   "cell_type": "code",
   "execution_count": 75,
   "metadata": {
    "id": "yOIhOzjruH57"
   },
   "outputs": [],
   "source": [
    "new_list = [6, 9, 1, 3, 5]"
   ]
  },
  {
   "cell_type": "code",
   "execution_count": 76,
   "metadata": {
    "id": "VhPOveeYuH59"
   },
   "outputs": [],
   "source": [
    "# Use sort to sort the list (this is permanent!)\n",
    "new_list.sort()"
   ]
  },
  {
   "cell_type": "code",
   "execution_count": 77,
   "metadata": {
    "colab": {
     "base_uri": "https://localhost:8080/"
    },
    "id": "iw_PGYFmuH6S",
    "outputId": "73cfc470-9b06-4976-eb4f-abdcd10166d6"
   },
   "outputs": [
    {
     "name": "stdout",
     "output_type": "stream",
     "text": [
      "[1, 3, 5, 6, 9]\n"
     ]
    }
   ],
   "source": [
    "print(new_list)"
   ]
  },
  {
   "cell_type": "code",
   "execution_count": 78,
   "metadata": {
    "colab": {
     "base_uri": "https://localhost:8080/"
    },
    "id": "7G1nOh1VuH6U",
    "outputId": "48eec9e8-7315-4f3e-91f9-6ea42e813bad"
   },
   "outputs": [
    {
     "name": "stdout",
     "output_type": "stream",
     "text": [
      "[9, 6, 5, 3, 1]\n"
     ]
    }
   ],
   "source": [
    "# Use the reverse boolean to set the ascending or descending order\n",
    "new_list.sort(reverse=True)\n",
    "print(new_list)"
   ]
  },
  {
   "cell_type": "code",
   "execution_count": 79,
   "metadata": {
    "id": "QIoFBvqOzosU"
   },
   "outputs": [],
   "source": [
    "boolean_list = [True, False]"
   ]
  },
  {
   "cell_type": "code",
   "execution_count": 80,
   "metadata": {
    "id": "tqENLXmJzueH"
   },
   "outputs": [],
   "source": [
    "boolean_list.sort(reverse=True)"
   ]
  },
  {
   "cell_type": "code",
   "execution_count": 81,
   "metadata": {
    "colab": {
     "base_uri": "https://localhost:8080/",
     "height": 34
    },
    "id": "O6MiKYnMzxvD",
    "outputId": "be040da8-7455-47da-9d38-77eb8e83d9a1"
   },
   "outputs": [
    {
     "name": "stdout",
     "output_type": "stream",
     "text": [
      "[True, False]\n"
     ]
    }
   ],
   "source": [
    "print(boolean_list)"
   ]
  },
  {
   "cell_type": "markdown",
   "metadata": {
    "id": "-PKIGd9xuH6a"
   },
   "source": [
    "### <code>reverse()</code>\n",
    "\n",
    "* <code>reverse()</code> method reverses the list"
   ]
  },
  {
   "cell_type": "code",
   "execution_count": 82,
   "metadata": {
    "id": "0Z_IZuJeuH6d"
   },
   "outputs": [],
   "source": [
    "my_list = [1, 1, 1, 1, 1.43, 2, 3, 3, 5, 8, 10, 'Lubba', 'Dub Dub']"
   ]
  },
  {
   "cell_type": "code",
   "execution_count": 83,
   "metadata": {
    "colab": {
     "base_uri": "https://localhost:8080/"
    },
    "id": "idf-jZVG0FWq",
    "outputId": "2e602d59-7152-4ce2-b427-52997b4843a1"
   },
   "outputs": [
    {
     "name": "stdout",
     "output_type": "stream",
     "text": [
      "[1, 1, 1, 1, 1.43, 2, 3, 3, 5, 8, 10, 'Lubba', 'Dub Dub']\n"
     ]
    }
   ],
   "source": [
    "print(my_list)"
   ]
  },
  {
   "cell_type": "code",
   "execution_count": 84,
   "metadata": {
    "id": "XlHNzFuWuH6f"
   },
   "outputs": [],
   "source": [
    "my_list.reverse()"
   ]
  },
  {
   "cell_type": "code",
   "execution_count": 85,
   "metadata": {
    "colab": {
     "base_uri": "https://localhost:8080/"
    },
    "id": "EIjRqvMsuH6h",
    "outputId": "718bb64e-eb4d-4a50-8c0e-4bbddaff6429"
   },
   "outputs": [
    {
     "name": "stdout",
     "output_type": "stream",
     "text": [
      "['Dub Dub', 'Lubba', 10, 8, 5, 3, 3, 2, 1.43, 1, 1, 1, 1]\n"
     ]
    }
   ],
   "source": [
    "print(my_list)"
   ]
  },
  {
   "cell_type": "markdown",
   "metadata": {
    "id": "Kflrg7Y0uH6j"
   },
   "source": [
    "## Nested Lists\n",
    "\n",
    "* A great feature of of Python data structures is that they support *nesting*. This means we can have data structures within data structures. For example: A list inside a list."
   ]
  },
  {
   "cell_type": "code",
   "execution_count": 86,
   "metadata": {
    "id": "fcP7eX_buH6j"
   },
   "outputs": [],
   "source": [
    "# Let's make three lists\n",
    "lst_1=[1,2,3]\n",
    "lst_2=['b','a','d']\n",
    "lst_3=[7,8,9]\n",
    "\n",
    "# Make a list of lists to form a matrix\n",
    "list_of_lists = [lst_1,lst_2,lst_3]"
   ]
  },
  {
   "cell_type": "code",
   "execution_count": 87,
   "metadata": {
    "colab": {
     "base_uri": "https://localhost:8080/"
    },
    "id": "ZW98bxOcuH6l",
    "outputId": "c2b21c7e-d603-4148-98d6-f62f72e8374d"
   },
   "outputs": [
    {
     "name": "stdout",
     "output_type": "stream",
     "text": [
      "[[1, 2, 3], ['b', 'a', 'd'], [7, 8, 9]]\n"
     ]
    }
   ],
   "source": [
    "print(list_of_lists)"
   ]
  },
  {
   "cell_type": "code",
   "execution_count": 88,
   "metadata": {
    "colab": {
     "base_uri": "https://localhost:8080/"
    },
    "id": "LCsNZqhiuH6o",
    "outputId": "741c07f9-90ae-4257-f40a-5fce2fb26ff8"
   },
   "outputs": [
    {
     "data": {
      "text/plain": [
       "list"
      ]
     },
     "execution_count": 88,
     "metadata": {},
     "output_type": "execute_result"
    }
   ],
   "source": [
    "# Show\n",
    "type(list_of_lists)"
   ]
  },
  {
   "cell_type": "code",
   "execution_count": 89,
   "metadata": {
    "colab": {
     "base_uri": "https://localhost:8080/",
     "height": 34
    },
    "id": "b0RVu1A9uH6r",
    "outputId": "0287ab44-4d6f-48e5-dcda-31234941c262"
   },
   "outputs": [
    {
     "data": {
      "text/plain": [
       "['b', 'a', 'd']"
      ]
     },
     "execution_count": 89,
     "metadata": {},
     "output_type": "execute_result"
    }
   ],
   "source": [
    "# Grab first item in matrix object\n",
    "list_of_lists[1]"
   ]
  },
  {
   "cell_type": "code",
   "execution_count": 90,
   "metadata": {
    "colab": {
     "base_uri": "https://localhost:8080/"
    },
    "id": "HXVZtlY3uH6u",
    "outputId": "db66dc84-dca7-429b-80f2-8933b2a73ff7"
   },
   "outputs": [
    {
     "data": {
      "text/plain": [
       "['b', 'a', 'd']"
      ]
     },
     "execution_count": 90,
     "metadata": {},
     "output_type": "execute_result"
    }
   ],
   "source": [
    "# Grab first item of the first item in the matrix object\n",
    "list_of_lists[1]"
   ]
  },
  {
   "cell_type": "code",
   "execution_count": 91,
   "metadata": {
    "colab": {
     "base_uri": "https://localhost:8080/",
     "height": 34
    },
    "id": "4B52LBDjOSIz",
    "outputId": "9d7c8282-9bfb-4575-ad19-f1521d1f3119"
   },
   "outputs": [
    {
     "data": {
      "text/plain": [
       "'a'"
      ]
     },
     "execution_count": 91,
     "metadata": {},
     "output_type": "execute_result"
    }
   ],
   "source": [
    "list_of_lists[1][1]"
   ]
  },
  {
   "cell_type": "code",
   "execution_count": null,
   "metadata": {
    "id": "iC2D0SZCfV9n"
   },
   "outputs": [],
   "source": []
  }
 ],
 "metadata": {
  "colab": {
   "collapsed_sections": [
    "6Qd7qKM1uH3Y",
    "p7d98KoOuH3f",
    "et3AsvCkuH3n",
    "1sitoBoVuH3u",
    "V31491BvuH3z",
    "BgmqyEUHuH4M",
    "tGmbu4MKuH43",
    "rshOIKENuH5F",
    "YBAQ1FyQuH5f",
    "Wheg57npuH5t",
    "avyykdGjuH52",
    "f4JqHtEouH57",
    "-PKIGd9xuH6a"
   ],
   "provenance": []
  },
  "kernelspec": {
   "display_name": "Python 3 (ipykernel)",
   "language": "python",
   "name": "python3"
  },
  "language_info": {
   "codemirror_mode": {
    "name": "ipython",
    "version": 3
   },
   "file_extension": ".py",
   "mimetype": "text/x-python",
   "name": "python",
   "nbconvert_exporter": "python",
   "pygments_lexer": "ipython3",
   "version": "3.9.13"
  }
 },
 "nbformat": 4,
 "nbformat_minor": 1
}
